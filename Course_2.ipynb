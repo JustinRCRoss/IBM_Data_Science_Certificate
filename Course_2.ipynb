{
 "cells": [
  {
   "cell_type": "markdown",
   "id": "e91b8ce9-0949-4b99-a3c9-72eb1f3cba8c",
   "metadata": {},
   "source": [
    "<h1>My Jupyter Notebook on IBM Watson Studio</h1>\n",
    "\n",
    "\n"
   ]
  },
  {
   "cell_type": "markdown",
   "id": "e9478d7b-d599-443d-9072-ebbe88cef3bc",
   "metadata": {},
   "source": [
    "<strong> Justin Cross </strong>\n",
    "\n",
    "Data Scientist"
   ]
  },
  {
   "cell_type": "markdown",
   "id": "4947a277-73c5-4a7a-9fd1-d2ba9573ce5f",
   "metadata": {},
   "source": [
    "_I am interested in data science because there are many opportunities to explore the use of data so that I can find meaningful output in my work_"
   ]
  },
  {
   "cell_type": "markdown",
   "id": "47e094a6-c559-4fcd-9749-cd411d9681b2",
   "metadata": {},
   "source": [
    "<h3> my code in cell 5 adds the number 1 to itself to make two </h3>"
   ]
  },
  {
   "cell_type": "code",
   "execution_count": 2,
   "id": "2b871c63-6dad-46da-a252-227fa804480e",
   "metadata": {},
   "outputs": [
    {
     "data": {
      "text/plain": [
       "2"
      ]
     },
     "execution_count": 2,
     "metadata": {},
     "output_type": "execute_result"
    }
   ],
   "source": [
    "1+1"
   ]
  },
  {
   "cell_type": "markdown",
   "id": "2324efe2-b7cd-4e56-92b9-b68ec1c0af6b",
   "metadata": {},
   "source": [
    "* bullleted list 1 \n",
    "* bullleted list 2\n",
    "* bullleted list 3\n",
    "1. numbered list 1\n",
    "2. numbered list 2\n",
    "3. numbered list 3\n",
    "\n",
    "~~This is a strikethrough~~\n"
   ]
  },
  {
   "cell_type": "code",
   "execution_count": null,
   "id": "fadf663e-44f7-4f1f-8cdb-af0b99a35e16",
   "metadata": {},
   "outputs": [],
   "source": []
  }
 ],
 "metadata": {
  "kernelspec": {
   "display_name": "Python",
   "language": "python",
   "name": "conda-env-python-py"
  },
  "language_info": {
   "codemirror_mode": {
    "name": "ipython",
    "version": 3
   },
   "file_extension": ".py",
   "mimetype": "text/x-python",
   "name": "python",
   "nbconvert_exporter": "python",
   "pygments_lexer": "ipython3",
   "version": "3.7.12"
  }
 },
 "nbformat": 4,
 "nbformat_minor": 5
}
